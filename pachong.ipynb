{
 "cells": [
  {
   "cell_type": "code",
   "execution_count": 12,
   "metadata": {},
   "outputs": [
    {
     "name": "stdout",
     "output_type": "stream",
     "text": [
      "<!DOCTYPE html>\n",
      "<html lang=\"cn\">\n",
      "<head>\n",
      "\t<meta charset=\"UTF-8\">\n",
      "\t<title>Scraping tutorial 1 | 莫烦Python</title>\n",
      "\t<link rel=\"icon\" href=\"https://morvanzhou.github.io/static/img/description/tab_icon.png\">\n",
      "</head>\n",
      "<body>\n",
      "\t<h1>爬虫测试1</h1>\n",
      "\t<p>\n",
      "\t\t这是一个在 <a href=\"https://morvanzhou.github.io/\">莫烦Python</a>\n",
      "\t\t<a href=\"https://morvanzhou.github.io/tutorials/data-manipulation/scraping/\">爬虫教程</a> 中的简单测试.\n",
      "\t</p>\n",
      "\n",
      "</body>\n",
      "</html>\n"
     ]
    }
   ],
   "source": [
    "from urllib.request import urlopen\n",
    "# if has Chinese, apply decode()\n",
    "html = urlopen(\n",
    "    \"https://morvanzhou.github.io/static/scraping/basic-structure.html\"\n",
    ").read().decode('utf-8')\n",
    "print(html)"
   ]
  },
  {
   "cell_type": "code",
   "execution_count": 4,
   "metadata": {},
   "outputs": [
    {
     "name": "stdout",
     "output_type": "stream",
     "text": [
      "<!DOCTYPE html>\n",
      "<html lang=\"cn\">\n",
      "<head>\n",
      "<meta charset=\"utf-8\"/>\n",
      "<title>Scraping tutorial 1 | 莫烦Python</title>\n",
      "<link href=\"https://morvanzhou.github.io/static/img/description/tab_icon.png\" rel=\"icon\"/>\n",
      "</head>\n",
      "<body>\n",
      "<h1>爬虫测试1</h1>\n",
      "<p>\n",
      "\t\t这是一个在 <a href=\"https://morvanzhou.github.io/\">莫烦Python</a>\n",
      "<a href=\"https://morvanzhou.github.io/tutorials/data-manipulation/scraping/\">爬虫教程</a> 中的简单测试.\n",
      "\t</p>\n",
      "</body>\n",
      "</html>\n"
     ]
    }
   ],
   "source": [
    "#我们总结一下爬网页的流程, 让你对 BeautifulSoup 有一个更好的定位.\n",
    "\n",
    "#选着要爬的网址 (url)\n",
    "#使用 python 登录上这个网址 (urlopen等)\n",
    "#读取网页信息 (read() 出来)\n",
    "#将读取的信息放入 BeautifulSoup\n",
    "#使用 BeautifulSoup 选取 tag 信息等 (代替正则表达式)\n",
    "from bs4 import BeautifulSoup\n",
    "soup = BeautifulSoup(html,features='lxml')\n",
    "print(soup)\n"
   ]
  },
  {
   "cell_type": "code",
   "execution_count": 6,
   "metadata": {},
   "outputs": [
    {
     "name": "stdout",
     "output_type": "stream",
     "text": [
      "<title>Scraping tutorial 1 | 莫烦Python</title>\n"
     ]
    }
   ],
   "source": [
    "#title是给浏览器看的\n",
    "print(soup.title)"
   ]
  },
  {
   "cell_type": "code",
   "execution_count": 7,
   "metadata": {},
   "outputs": [
    {
     "name": "stdout",
     "output_type": "stream",
     "text": [
      "<head>\n",
      "<meta charset=\"utf-8\"/>\n",
      "<title>Scraping tutorial 1 | 莫烦Python</title>\n",
      "<link href=\"https://morvanzhou.github.io/static/img/description/tab_icon.png\" rel=\"icon\"/>\n",
      "</head>\n"
     ]
    }
   ],
   "source": [
    "#head包括了title，是给浏览器看的\n",
    "print(soup.head)"
   ]
  },
  {
   "cell_type": "code",
   "execution_count": 9,
   "metadata": {},
   "outputs": [
    {
     "name": "stdout",
     "output_type": "stream",
     "text": [
      "<body>\n",
      "<h1>爬虫测试1</h1>\n",
      "<p>\n",
      "\t\t这是一个在 <a href=\"https://morvanzhou.github.io/\">莫烦Python</a>\n",
      "<a href=\"https://morvanzhou.github.io/tutorials/data-manipulation/scraping/\">爬虫教程</a> 中的简单测试.\n",
      "\t</p>\n",
      "</body>\n",
      "<h1>爬虫测试1</h1>\n"
     ]
    }
   ],
   "source": [
    "#body是主体\n",
    "print(soup.body)\n",
    "#h1是大标题\n",
    "print(soup.h1)"
   ]
  },
  {
   "cell_type": "code",
   "execution_count": 13,
   "metadata": {},
   "outputs": [
    {
     "name": "stdout",
     "output_type": "stream",
     "text": [
      "<!DOCTYPE html>\n",
      "<html lang=\"cn\">\n",
      "<head>\n",
      "\t<meta charset=\"UTF-8\">\n",
      "\t<title>爬虫练习 列表 class | 莫烦 Python</title>\n",
      "\t<style>\n",
      "\t.jan {\n",
      "\t\tbackground-color: yellow;\n",
      "\t}\n",
      "\t.feb {\n",
      "\t\tfont-size: 25px;\n",
      "\t}\n",
      "\t.month {\n",
      "\t\tcolor: red;\n",
      "\t}\n",
      "\t</style>\n",
      "</head>\n",
      "\n",
      "<body>\n",
      "\n",
      "<h1>列表 爬虫练习</h1>\n",
      "\n",
      "<p>这是一个在 <a href=\"https://morvanzhou.github.io/\" >莫烦 Python</a> 的 <a href=\"https://morvanzhou.github.io/tutorials/data-manipulation/scraping/\" >爬虫教程</a>\n",
      "\t里无敌简单的网页, 所有的 code 让你一目了然, 清晰无比.</p>\n",
      "\n",
      "<ul>\n",
      "\t<li class=\"month\">一月</li>\n",
      "\t<ul class=\"jan\">\n",
      "\t\t<li>一月一号</li>\n",
      "\t\t<li>一月二号</li>\n",
      "\t\t<li>一月三号</li>\n",
      "\t</ul>\n",
      "\t<li class=\"feb month\">二月</li>\n",
      "\t<li class=\"month\">三月</li>\n",
      "\t<li class=\"month\">四月</li>\n",
      "\t<li class=\"month\">五月</li>\n",
      "</ul>\n",
      "\n",
      "</body>\n",
      "</html>\n"
     ]
    }
   ],
   "source": [
    "#使用css来爬取网页信息\n",
    "\n",
    "from bs4 import BeautifulSoup\n",
    "from urllib.request import urlopen\n",
    "\n",
    "# if has Chinese, apply decode()\n",
    "html = urlopen(\"https://morvanzhou.github.io/static/scraping/list.html\").read().decode('utf-8')\n",
    "print(html)"
   ]
  },
  {
   "cell_type": "code",
   "execution_count": 18,
   "metadata": {},
   "outputs": [
    {
     "name": "stdout",
     "output_type": "stream",
     "text": [
      "[<li class=\"feb month\">二月</li>] <class 'bs4.element.ResultSet'>\n",
      "二月\n",
      "\n",
      "一月一号\n",
      "一月二号\n",
      "一月三号\n",
      "\n"
     ]
    }
   ],
   "source": [
    "soup = BeautifulSoup(html, features='lxml')\n",
    "\n",
    "# use class to narrow search\n",
    "#<li>标签定义列表的项目\n",
    "#<li> 标签可用在有序列表 (<ol>) 和无序列表 (<ul>) 中。\n",
    "\n",
    "#find_all()方法：（标签类型，{\"class\"：具体类名}）,返回该类\n",
    "month = soup.find_all('li', {\"class\": \"feb month\"})\n",
    "print(month,type(month))\n",
    "for m in month:\n",
    "    print(m.get_text())\n",
    "    \n",
    "jan = soup.find_all('ul',{\"class\":\"jan\"}) \n",
    "for i in jan:\n",
    "    print(i.get_text())"
   ]
  },
  {
   "cell_type": "code",
   "execution_count": 2,
   "metadata": {},
   "outputs": [
    {
     "name": "stdout",
     "output_type": "stream",
     "text": [
      "images/search-btn.png\n",
      "images/1111.png\n",
      "bwcx.png\n",
      "QQ20.png\n",
      "xnxy.png\n",
      "images/ico04.png\n",
      "images/ico09.png\n"
     ]
    }
   ],
   "source": [
    "#引入正则表达式进行爬虫\n",
    "from bs4 import BeautifulSoup\n",
    "from urllib.request import urlopen\n",
    "import re\n",
    "\n",
    "# if has Chinese, apply decode()\n",
    "html = urlopen(\"http://www.swun.edu.cn\").read().decode('utf-8')\n",
    "soup = BeautifulSoup(html, features='lxml')\n",
    "\n",
    "img_links = soup.find_all(\"img\", {\"src\": re.compile('.*?\\.png')})\n",
    "for link in img_links:\n",
    "    print(link['src'])"
   ]
  },
  {
   "cell_type": "code",
   "execution_count": 12,
   "metadata": {},
   "outputs": [
    {
     "name": "stdout",
     "output_type": "stream",
     "text": [
      "https://morvanzhou.github.io/\n",
      "https://morvanzhou.github.io/tutorials/data-manipulation/scraping/\n",
      "https://morvanzhou.github.io/tutorials/machine-learning/tensorflow/\n",
      "https://morvanzhou.github.io/tutorials/machine-learning/reinforcement-learning/\n",
      "https://morvanzhou.github.io/tutorials/data-manipulation/scraping/\n"
     ]
    }
   ],
   "source": [
    "html2 = urlopen(\"https://morvanzhou.github.io/static/scraping/table.html\").read().decode('utf-8')\n",
    "soup2 = BeautifulSoup(html2, features='lxml')\n",
    "course_link = soup2.find_all('a',{'href':re.compile('https://morvan.*')})\n",
    "for course in course_link:\n",
    "    print(course['href'])"
   ]
  },
  {
   "cell_type": "code",
   "execution_count": 54,
   "metadata": {},
   "outputs": [
    {
     "name": "stdout",
     "output_type": "stream",
     "text": [
      "西南民族大学     url:  /item/%E8%A5%BF%E5%8D%97%E6%B0%91%E6%97%8F%E5%A4%A7%E5%AD%A6/172433?fr=aladdin\n",
      "1   四川省  url:  https://baike.baidu.com/item/%E5%9B%9B%E5%B7%9D%E7%9C%81/15626925\n",
      "2   成都市  url:  https://baike.baidu.com/item/%E6%88%90%E9%83%BD%E5%B8%82/5020801\n",
      "3   中华人民共和国国家民族事务委员会  url:  https://baike.baidu.com/item/%E4%B8%AD%E5%8D%8E%E4%BA%BA%E6%B0%91%E5%85%B1%E5%92%8C%E5%9B%BD%E5%9B%BD%E5%AE%B6%E6%B0%91%E6%97%8F%E4%BA%8B%E5%8A%A1%E5%A7%94%E5%91%98%E4%BC%9A/3700504\n",
      "4   中华人民共和国教育部  url:  https://baike.baidu.com/item/%E4%B8%AD%E5%8D%8E%E4%BA%BA%E6%B0%91%E5%85%B1%E5%92%8C%E5%9B%BD%E6%95%99%E8%82%B2%E9%83%A8/3507526\n",
      "5   中国科学院  url:  https://baike.baidu.com/item/%E4%B8%AD%E5%9B%BD%E7%A7%91%E5%AD%A6%E9%99%A2/271375\n",
      "6   四川省人民政府  url:  https://baike.baidu.com/item/%E5%9B%9B%E5%B7%9D%E7%9C%81%E4%BA%BA%E6%B0%91%E6%94%BF%E5%BA%9C/8206928\n",
      "7   成都市人民政府  url:  https://baike.baidu.com/item/%E6%88%90%E9%83%BD%E5%B8%82%E4%BA%BA%E6%B0%91%E6%94%BF%E5%BA%9C/5461003\n",
      "8   卓越法律人才教育培养计划  url:  https://baike.baidu.com/item/%E5%8D%93%E8%B6%8A%E6%B3%95%E5%BE%8B%E4%BA%BA%E6%89%8D%E6%95%99%E8%82%B2%E5%9F%B9%E5%85%BB%E8%AE%A1%E5%88%92/9781317\n",
      "9   卓越农林人才教育培养计划  url:  https://baike.baidu.com/item/%E5%8D%93%E8%B6%8A%E5%86%9C%E6%9E%97%E4%BA%BA%E6%89%8D%E6%95%99%E8%82%B2%E5%9F%B9%E5%85%BB%E8%AE%A1%E5%88%92/15906214\n",
      "10   少数民族高层次骨干人才计划  url:  https://baike.baidu.com/item/%E5%B0%91%E6%95%B0%E6%B0%91%E6%97%8F%E9%AB%98%E5%B1%82%E6%AC%A1%E9%AA%A8%E5%B9%B2%E4%BA%BA%E6%89%8D%E8%AE%A1%E5%88%92/1491055\n",
      "11   国家级大学生创新创业训练计划  url:  https://baike.baidu.com/item/%E5%9B%BD%E5%AE%B6%E7%BA%A7%E5%A4%A7%E5%AD%A6%E7%94%9F%E5%88%9B%E6%96%B0%E5%88%9B%E4%B8%9A%E8%AE%AD%E7%BB%83%E8%AE%A1%E5%88%92/8962344\n",
      "12   高等学校特色专业建设点  url:  https://baike.baidu.com/item/%E9%AB%98%E7%AD%89%E5%AD%A6%E6%A0%A1%E7%89%B9%E8%89%B2%E4%B8%93%E4%B8%9A%E5%BB%BA%E8%AE%BE%E7%82%B9/778365\n",
      "13   新工科研究与实践项目  url:  https://baike.baidu.com/item/%E6%96%B0%E5%B7%A5%E7%A7%91%E7%A0%94%E7%A9%B6%E4%B8%8E%E5%AE%9E%E8%B7%B5%E9%A1%B9%E7%9B%AE/22833448\n",
      "14   四川省“双一流”建设计划  url:  https://baike.baidu.com/item/%E5%9B%9B%E5%B7%9D%E7%9C%81%E2%80%9C%E5%8F%8C%E4%B8%80%E6%B5%81%E2%80%9D%E5%BB%BA%E8%AE%BE%E8%AE%A1%E5%88%92/22136091\n",
      "15   四川2011计划  url:  https://baike.baidu.com/item/%E5%9B%9B%E5%B7%9D2011%E8%AE%A1%E5%88%92/17928845\n",
      "16   毛泽东  url:  https://baike.baidu.com/item/%E6%AF%9B%E6%B3%BD%E4%B8%9C/113835\n",
      "17   周恩来  url:  https://baike.baidu.com/item/%E5%91%A8%E6%81%A9%E6%9D%A5/114814\n",
      "18   邓小平  url:  https://baike.baidu.com/item/%E9%82%93%E5%B0%8F%E5%B9%B3/116181\n",
      "19   中央部属高校  url:  https://baike.baidu.com/item/%E4%B8%AD%E5%A4%AE%E9%83%A8%E5%B1%9E%E9%AB%98%E6%A0%A1/6459433\n",
      "20   省部共建大学  url:  https://baike.baidu.com/item/%E7%9C%81%E9%83%A8%E5%85%B1%E5%BB%BA%E5%A4%A7%E5%AD%A6/3055753\n",
      "21   卓越法律人才教育培养计划  url:  https://baike.baidu.com/item/%E5%8D%93%E8%B6%8A%E6%B3%95%E5%BE%8B%E4%BA%BA%E6%89%8D%E6%95%99%E8%82%B2%E5%9F%B9%E5%85%BB%E8%AE%A1%E5%88%92/9781317\n",
      "22   卓越农林人才教育培养计划  url:  https://baike.baidu.com/item/%E5%8D%93%E8%B6%8A%E5%86%9C%E6%9E%97%E4%BA%BA%E6%89%8D%E6%95%99%E8%82%B2%E5%9F%B9%E5%85%BB%E8%AE%A1%E5%88%92/15906214\n",
      "23   少数民族高层次骨干人才计划  url:  https://baike.baidu.com/item/%E5%B0%91%E6%95%B0%E6%B0%91%E6%97%8F%E9%AB%98%E5%B1%82%E6%AC%A1%E9%AA%A8%E5%B9%B2%E4%BA%BA%E6%89%8D%E8%AE%A1%E5%88%92/1491055\n",
      "24   中华人民共和国国家民族事务委员会  url:  https://baike.baidu.com/item/%E4%B8%AD%E5%8D%8E%E4%BA%BA%E6%B0%91%E5%85%B1%E5%92%8C%E5%9B%BD%E5%9B%BD%E5%AE%B6%E6%B0%91%E6%97%8F%E4%BA%8B%E5%8A%A1%E5%A7%94%E5%91%98%E4%BC%9A/3700504\n",
      "25   吉狄马加  url:  https://baike.baidu.com/item/%E5%90%89%E7%8B%84%E9%A9%AC%E5%8A%A0/5418337\n",
      "26   曲木史哈  url:  https://baike.baidu.com/item/%E6%9B%B2%E6%9C%A8%E5%8F%B2%E5%93%88/175982\n",
      "27   罗布江村  url:  https://baike.baidu.com/item/%E7%BD%97%E5%B8%83%E6%B1%9F%E6%9D%91/3347977\n",
      "28   张东升  url:  https://baike.baidu.com/item/%E5%BC%A0%E4%B8%9C%E5%8D%87/6648363\n",
      "29   龙长春  url:  https://baike.baidu.com/item/%E9%BE%99%E9%95%BF%E6%98%A5/9953336\n",
      "30   祝春秀  url:  https://baike.baidu.com/item/%E7%A5%9D%E6%98%A5%E7%A7%80/602312\n",
      "31   罗布江村  url:  https://baike.baidu.com/item/%E7%BD%97%E5%B8%83%E6%B1%9F%E6%9D%91/3347977\n",
      "32   中央部属高校  url:  https://baike.baidu.com/item/%E4%B8%AD%E5%A4%AE%E9%83%A8%E5%B1%9E%E9%AB%98%E6%A0%A1/6459433\n",
      "33   省部共建大学  url:  https://baike.baidu.com/item/%E7%9C%81%E9%83%A8%E5%85%B1%E5%BB%BA%E5%A4%A7%E5%AD%A6/3055753\n",
      "34   卓越法律人才教育培养计划  url:  https://baike.baidu.com/item/%E5%8D%93%E8%B6%8A%E6%B3%95%E5%BE%8B%E4%BA%BA%E6%89%8D%E6%95%99%E8%82%B2%E5%9F%B9%E5%85%BB%E8%AE%A1%E5%88%92/9781317\n",
      "35   卓越农林人才教育培养计划  url:  https://baike.baidu.com/item/%E5%8D%93%E8%B6%8A%E5%86%9C%E6%9E%97%E4%BA%BA%E6%89%8D%E6%95%99%E8%82%B2%E5%9F%B9%E5%85%BB%E8%AE%A1%E5%88%92/15906214\n",
      "36   少数民族高层次骨干人才计划  url:  https://baike.baidu.com/item/%E5%B0%91%E6%95%B0%E6%B0%91%E6%97%8F%E9%AB%98%E5%B1%82%E6%AC%A1%E9%AA%A8%E5%B9%B2%E4%BA%BA%E6%89%8D%E8%AE%A1%E5%88%92/1491055\n",
      "37   中央部属高校  url:  https://baike.baidu.com/item/%E4%B8%AD%E5%A4%AE%E9%83%A8%E5%B1%9E%E9%AB%98%E6%A0%A1/6459433\n",
      "38   省部共建大学  url:  https://baike.baidu.com/item/%E7%9C%81%E9%83%A8%E5%85%B1%E5%BB%BA%E5%A4%A7%E5%AD%A6/3055753\n",
      "39   卓越法律人才教育培养计划  url:  https://baike.baidu.com/item/%E5%8D%93%E8%B6%8A%E6%B3%95%E5%BE%8B%E4%BA%BA%E6%89%8D%E6%95%99%E8%82%B2%E5%9F%B9%E5%85%BB%E8%AE%A1%E5%88%92/9781317\n",
      "40   卓越农林人才教育培养计划  url:  https://baike.baidu.com/item/%E5%8D%93%E8%B6%8A%E5%86%9C%E6%9E%97%E4%BA%BA%E6%89%8D%E6%95%99%E8%82%B2%E5%9F%B9%E5%85%BB%E8%AE%A1%E5%88%92/15906214\n",
      "41   少数民族高层次骨干人才计划  url:  https://baike.baidu.com/item/%E5%B0%91%E6%95%B0%E6%B0%91%E6%97%8F%E9%AB%98%E5%B1%82%E6%AC%A1%E9%AA%A8%E5%B9%B2%E4%BA%BA%E6%89%8D%E8%AE%A1%E5%88%92/1491055\n",
      "42   四川省“双一流”建设计划  url:  https://baike.baidu.com/item/%E5%9B%9B%E5%B7%9D%E7%9C%81%E2%80%9C%E5%8F%8C%E4%B8%80%E6%B5%81%E2%80%9D%E5%BB%BA%E8%AE%BE%E8%AE%A1%E5%88%92/22136091\n",
      "43   四川2011计划  url:  https://baike.baidu.com/item/%E5%9B%9B%E5%B7%9D2011%E8%AE%A1%E5%88%92/17928845\n",
      "44   中华人民共和国国家民族事务委员会  url:  https://baike.baidu.com/item/%E4%B8%AD%E5%8D%8E%E4%BA%BA%E6%B0%91%E5%85%B1%E5%92%8C%E5%9B%BD%E5%9B%BD%E5%AE%B6%E6%B0%91%E6%97%8F%E4%BA%8B%E5%8A%A1%E5%A7%94%E5%91%98%E4%BC%9A/3700504\n",
      "45   杨敏  url:  https://baike.baidu.com/item/%E6%9D%A8%E6%95%8F/53397\n",
      "46   刘玉彬  url:  https://baike.baidu.com/item/%E5%88%98%E7%8E%89%E5%BD%AC/18605044\n",
      "47   双流区  url:  https://baike.baidu.com/item/%E5%8F%8C%E6%B5%81%E5%8C%BA/14860434\n",
      "48   武侯区  url:  https://baike.baidu.com/item/%E6%AD%A6%E4%BE%AF%E5%8C%BA/7261564\n",
      "49   吉狄马加  url:  https://baike.baidu.com/item/%E5%90%89%E7%8B%84%E9%A9%AC%E5%8A%A0/5418337\n",
      "50   曲木史哈  url:  https://baike.baidu.com/item/%E6%9B%B2%E6%9C%A8%E5%8F%B2%E5%93%88/175982\n",
      "51   罗布江村  url:  https://baike.baidu.com/item/%E7%BD%97%E5%B8%83%E6%B1%9F%E6%9D%91/3347977\n",
      "52   张东升  url:  https://baike.baidu.com/item/%E5%BC%A0%E4%B8%9C%E5%8D%87/6648363\n",
      "53   龙长春  url:  https://baike.baidu.com/item/%E9%BE%99%E9%95%BF%E6%98%A5/9953336\n",
      "54   祝春秀  url:  https://baike.baidu.com/item/%E7%A5%9D%E6%98%A5%E7%A7%80/602312\n",
      "55   罗布江村  url:  https://baike.baidu.com/item/%E7%BD%97%E5%B8%83%E6%B1%9F%E6%9D%91/3347977\n",
      "56   西南民族学院  url:  https://baike.baidu.com/item/%E8%A5%BF%E5%8D%97%E6%B0%91%E6%97%8F%E5%AD%A6%E9%99%A2\n",
      "57   武侯祠  url:  https://baike.baidu.com/item/%E6%AD%A6%E4%BE%AF%E7%A5%A0/1728\n",
      "58   国务院学位委员会  url:  https://baike.baidu.com/item/%E5%9B%BD%E5%8A%A1%E9%99%A2%E5%AD%A6%E4%BD%8D%E5%A7%94%E5%91%98%E4%BC%9A\n",
      "59   中国科学院  url:  https://baike.baidu.com/item/%E4%B8%AD%E5%9B%BD%E7%A7%91%E5%AD%A6%E9%99%A2/271375\n",
      "60   西南民族学院  url:  https://baike.baidu.com/item/%E8%A5%BF%E5%8D%97%E6%B0%91%E6%97%8F%E5%AD%A6%E9%99%A2\n",
      "61   西南民族大学  url:  https://baike.baidu.com/item/%E8%A5%BF%E5%8D%97%E6%B0%91%E6%97%8F%E5%A4%A7%E5%AD%A6\n",
      "62   汶川大地震  url:  https://baike.baidu.com/item/%E6%B1%B6%E5%B7%9D%E5%A4%A7%E5%9C%B0%E9%9C%87/2456124\n",
      "63   中国建设银行四川省分行  url:  https://baike.baidu.com/item/%E4%B8%AD%E5%9B%BD%E5%BB%BA%E8%AE%BE%E9%93%B6%E8%A1%8C%E5%9B%9B%E5%B7%9D%E7%9C%81%E5%88%86%E8%A1%8C\n",
      "64   四川省人民政府  url:  https://baike.baidu.com/item/%E5%9B%9B%E5%B7%9D%E7%9C%81%E4%BA%BA%E6%B0%91%E6%94%BF%E5%BA%9C\n",
      "65   教育部  url:  https://baike.baidu.com/item/%E6%95%99%E8%82%B2%E9%83%A8\n",
      "66   全国文明校园  url:  https://baike.baidu.com/item/%E5%85%A8%E5%9B%BD%E6%96%87%E6%98%8E%E6%A0%A1%E5%9B%AD\n",
      "67   化学  url:  https://baike.baidu.com/item/%E5%8C%96%E5%AD%A6/127240\n",
      "68   西南民族大学学报  url:  https://baike.baidu.com/item/%E8%A5%BF%E5%8D%97%E6%B0%91%E6%97%8F%E5%A4%A7%E5%AD%A6%E5%AD%A6%E6%8A%A5\n",
      "69   民族学刊  url:  https://baike.baidu.com/item/%E6%B0%91%E6%97%8F%E5%AD%A6%E5%88%8A\n",
      "70   西南民族大学学报  url:  https://baike.baidu.com/item/%E8%A5%BF%E5%8D%97%E6%B0%91%E6%97%8F%E5%A4%A7%E5%AD%A6%E5%AD%A6%E6%8A%A5\n",
      "71   马克思列宁主义  url:  https://baike.baidu.com/item/%E9%A9%AC%E5%85%8B%E6%80%9D%E5%88%97%E5%AE%81%E4%B8%BB%E4%B9%89\n",
      "72   毛泽东思想  url:  https://baike.baidu.com/item/%E6%AF%9B%E6%B3%BD%E4%B8%9C%E6%80%9D%E6%83%B3\n",
      "73   邓小平理论  url:  https://baike.baidu.com/item/%E9%82%93%E5%B0%8F%E5%B9%B3%E7%90%86%E8%AE%BA\n",
      "74   民族学刊  url:  https://baike.baidu.com/item/%E6%B0%91%E6%97%8F%E5%AD%A6%E5%88%8A\n",
      "75   现代教育技术中心  url:  https://baike.baidu.com/item/%E7%8E%B0%E4%BB%A3%E6%95%99%E8%82%B2%E6%8A%80%E6%9C%AF%E4%B8%AD%E5%BF%83\n",
      "76   米亚罗红叶风景区  url:  https://baike.baidu.com/item/%E7%B1%B3%E4%BA%9A%E7%BD%97%E7%BA%A2%E5%8F%B6%E9%A3%8E%E6%99%AF%E5%8C%BA\n",
      "77   杨敏  url:  https://baike.baidu.com/item/%E6%9D%A8%E6%95%8F/53397\n",
      "78   刘玉彬  url:  https://baike.baidu.com/item/%E5%88%98%E7%8E%89%E5%BD%AC/5655928\n",
      "79   王永  url:  https://baike.baidu.com/item/%E7%8E%8B%E6%B0%B8/17579862\n",
      "80   王永正  url:  https://baike.baidu.com/item/%E7%8E%8B%E6%B0%B8%E6%AD%A3/17579860\n",
      "81   恩佳  url:  https://baike.baidu.com/item/%E6%81%A9%E4%BD%B3/8862465\n",
      "82   张明善  url:  https://baike.baidu.com/item/%E5%BC%A0%E6%98%8E%E5%96%84/8713265\n",
      "83   None  url:  https://baike.baidu.com/item/%E5%8C%85%E8%8E%89%E5%A8%9C31/22658542\n",
      "84   吉狄马加  url:  https://baike.baidu.com/item/%E5%90%89%E7%8B%84%E9%A9%AC%E5%8A%A0\n",
      "85   曲木史哈  url:  https://baike.baidu.com/item/%E6%9B%B2%E6%9C%A8%E5%8F%B2%E5%93%88\n",
      "86   龙长春  url:  https://baike.baidu.com/item/%E9%BE%99%E9%95%BF%E6%98%A5/9953336\n",
      "87   张东升  url:  https://baike.baidu.com/item/%E5%BC%A0%E4%B8%9C%E5%8D%87\n",
      "88   祝春秀  url:  https://baike.baidu.com/item/%E7%A5%9D%E6%98%A5%E7%A7%80/602312\n",
      "89   罗布江村  url:  https://baike.baidu.com/item/%E7%BD%97%E5%B8%83%E6%B1%9F%E6%9D%91/3347977\n",
      "90   益西达瓦  url:  https://baike.baidu.com/item/%E7%9B%8A%E8%A5%BF%E8%BE%BE%E7%93%A6\n",
      "91   田蓉  url:  https://baike.baidu.com/item/%E7%94%B0%E8%93%89/52034\n",
      "92   唐建新  url:  https://baike.baidu.com/item/%E5%94%90%E5%BB%BA%E6%96%B0\n",
      "93   张支铁  url:  https://baike.baidu.com/item/%E5%BC%A0%E6%94%AF%E9%93%81\n",
      "94   李康  url:  https://baike.baidu.com/item/%E6%9D%8E%E5%BA%B7/6619580\n",
      "95   足麦  url:  https://baike.baidu.com/item/%E8%B6%B3%E9%BA%A6\n",
      "96   何晓平  url:  https://baike.baidu.com/item/%E4%BD%95%E6%99%93%E5%B9%B3\n",
      "97   曲木林古  url:  https://baike.baidu.com/item/%E6%9B%B2%E6%9C%A8%E6%9E%97%E5%8F%A4\n",
      "98   刘朝宽  url:  https://baike.baidu.com/item/%E5%88%98%E6%9C%9D%E5%AE%BD/7432805\n",
      "99   甘映平  url:  https://baike.baidu.com/item/%E7%94%98%E6%98%A0%E5%B9%B3/16020251\n",
      "100   刘德强  url:  https://baike.baidu.com/item/%E5%88%98%E5%BE%B7%E5%BC%BA/16026704\n",
      "101   王康  url:  https://baike.baidu.com/item/%E7%8E%8B%E5%BA%B7\n",
      "102   毕世祥  url:  https://baike.baidu.com/item/%E6%AF%95%E4%B8%96%E7%A5%A5\n",
      "103   龚燕  url:  https://baike.baidu.com/item/%E9%BE%9A%E7%87%95\n",
      "104   王雨顺  url:  https://baike.baidu.com/item/%E7%8E%8B%E9%9B%A8%E9%A1%BA/68639\n",
      "105   罗振华  url:  https://baike.baidu.com/item/%E7%BD%97%E6%8C%AF%E5%8D%8E/8750677\n",
      "106   寸世成  url:  https://baike.baidu.com/item/%E5%AF%B8%E4%B8%96%E6%88%90\n",
      "107   管国照  url:  https://baike.baidu.com/item/%E7%AE%A1%E5%9B%BD%E7%85%A7/15284875\n",
      "108   谢忠华  url:  https://baike.baidu.com/item/%E8%B0%A2%E5%BF%A0%E5%8D%8E/9954629\n",
      "109   叶明生  url:  https://baike.baidu.com/item/%E5%8F%B6%E6%98%8E%E7%94%9F/19242026\n",
      "110   洪云龙  url:  https://baike.baidu.com/item/%E6%B4%AA%E4%BA%91%E9%BE%99\n",
      "111   胡洪成  url:  https://baike.baidu.com/item/%E8%83%A1%E6%B4%AA%E6%88%90/10533600\n",
      "112   木呷克哈  url:  https://baike.baidu.com/item/%E6%9C%A8%E5%91%B7%E5%85%8B%E5%93%88\n",
      "113   傅捷  url:  https://baike.baidu.com/item/%E5%82%85%E6%8D%B7/19475252\n",
      "114   王瑛  url:  https://baike.baidu.com/item/%E7%8E%8B%E7%91%9B\n",
      "115   龙进品  url:  https://baike.baidu.com/item/%E9%BE%99%E8%BF%9B%E5%93%81\n",
      "116   王乾  url:  https://baike.baidu.com/item/%E7%8E%8B%E4%B9%BE/6995102\n",
      "117   李思明  url:  https://baike.baidu.com/item/%E6%9D%8E%E6%80%9D%E6%98%8E/2641177\n",
      "118   北京大学  url:  https://baike.baidu.com/item/%E5%8C%97%E4%BA%AC%E5%A4%A7%E5%AD%A6\n",
      "119   刘国恩  url:  https://baike.baidu.com/item/%E5%88%98%E5%9B%BD%E6%81%A9\n",
      "120   冯元蔚  url:  https://baike.baidu.com/item/%E5%86%AF%E5%85%83%E8%94%9A/5685708\n",
      "121   李绍明  url:  https://baike.baidu.com/item/%E6%9D%8E%E7%BB%8D%E6%98%8E/2021759\n",
      "122   格勒  url:  https://baike.baidu.com/item/%E6%A0%BC%E5%8B%92/5723243\n",
      "123   牛红卫  url:  https://baike.baidu.com/item/%E7%89%9B%E7%BA%A2%E5%8D%AB/20172636\n",
      "124   赵兴波  url:  https://baike.baidu.com/item/%E8%B5%B5%E5%85%B4%E6%B3%A2/16952782\n",
      "125   何启盖  url:  https://baike.baidu.com/item/%E4%BD%95%E5%90%AF%E7%9B%96/7912708\n",
      "126   刘适兰  url:  https://baike.baidu.com/item/%E5%88%98%E9%80%82%E5%85%B0\n",
      "127   沙玛阿果  url:  https://baike.baidu.com/item/%E6%B2%99%E7%8E%9B%E9%98%BF%E6%9E%9C\n",
      "128   曹方  url:  https://baike.baidu.com/item/%E6%9B%B9%E6%96%B9\n",
      "129   三木科  url:  https://baike.baidu.com/item/%E4%B8%89%E6%9C%A8%E7%A7%91/4581721\n",
      "130   韩晗  url:  https://baike.baidu.com/item/%E9%9F%A9%E6%99%97/294606\n",
      "131   张芷溪  url:  https://baike.baidu.com/item/%E5%BC%A0%E8%8A%B7%E6%BA%AA/1351450\n",
      "132   寂地  url:  https://baike.baidu.com/item/%E5%AF%82%E5%9C%B0/1831245\n",
      "133   王元  url:  https://baike.baidu.com/item/%E7%8E%8B%E5%85%83/1259628\n",
      "134   蒋全胜  url:  https://baike.baidu.com/item/%E8%92%8B%E5%85%A8%E8%83%9C/4202473\n",
      "135   马永升  url:  https://baike.baidu.com/item/%E9%A9%AC%E6%B0%B8%E5%8D%87/6594632\n",
      "136   None  url:  https://baike.baidu.comhttps://baike.baidu.com/item/%E7%99%BE%E5%BA%A6%E7%99%BE%E7%A7%91%EF%BC%9A%E5%88%9B%E5%BB%BA%E7%89%88%E6%9C%AC\n",
      "137   本人编辑  url:  https://baike.baidu.com/item/%E7%99%BE%E5%BA%A6%E7%99%BE%E7%A7%91%EF%BC%9A%E6%9C%AC%E4%BA%BA%E8%AF%8D%E6%9D%A1%E7%BC%96%E8%BE%91%E6%9C%8D%E5%8A%A1/22442459?bk_fr=pcFooter\n"
     ]
    }
   ],
   "source": [
    "#小例子，爬百度百科\n",
    "from bs4 import BeautifulSoup\n",
    "from urllib.request import urlopen\n",
    "import re\n",
    "import random\n",
    "base_url = \"https://baike.baidu.com\"\n",
    "his = [\"/item/%E8%A5%BF%E5%8D%97%E6%B0%91%E6%97%8F%E5%A4%A7%E5%AD%A6/172433?fr=aladdin\"]\n",
    "try:\n",
    "    \n",
    "    url = base_url + his[-1]\n",
    "    html = urlopen(url).read().decode('utf-8')\n",
    "    soup = BeautifulSoup(html, features='lxml')\n",
    "    print(soup.find('h1').get_text(), '    url: ', his[-1])\n",
    "    sub_urls = soup.find_all('a',{\"href\":re.compile(\"/item/%E\\d*\")})\n",
    "    num = 0\n",
    "    for sub_url in sub_urls:\n",
    "        num += 1\n",
    "        #string属性就是超链接词条\n",
    "        print(num ,\" \",sub_url.string,' url: ', base_url + sub_url['href'])\n",
    "    else:\n",
    "        pass            \n",
    "except:\n",
    "    print(\"发生了错误\")\n",
    "            "
   ]
  },
  {
   "cell_type": "code",
   "execution_count": null,
   "metadata": {},
   "outputs": [],
   "source": []
  }
 ],
 "metadata": {
  "kernelspec": {
   "display_name": "Python 3",
   "language": "python",
   "name": "python3"
  },
  "language_info": {
   "codemirror_mode": {
    "name": "ipython",
    "version": 3
   },
   "file_extension": ".py",
   "mimetype": "text/x-python",
   "name": "python",
   "nbconvert_exporter": "python",
   "pygments_lexer": "ipython3",
   "version": "3.6.4"
  }
 },
 "nbformat": 4,
 "nbformat_minor": 2
}
